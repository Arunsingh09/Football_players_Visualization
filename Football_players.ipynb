{
 "cells": [
  {
   "cell_type": "code",
   "execution_count": 116,
   "id": "0398053e",
   "metadata": {},
   "outputs": [],
   "source": [
    "import numpy as np\n",
    "import pandas as pd\n",
    "import matplotlib.pyplot as plt\n",
    "import seaborn as sns\n",
    "from datetime import datetime"
   ]
  },
  {
   "cell_type": "code",
   "execution_count": 236,
   "id": "8033e798",
   "metadata": {},
   "outputs": [
    {
     "data": {
      "text/html": [
       "<div>\n",
       "<style scoped>\n",
       "    .dataframe tbody tr th:only-of-type {\n",
       "        vertical-align: middle;\n",
       "    }\n",
       "\n",
       "    .dataframe tbody tr th {\n",
       "        vertical-align: top;\n",
       "    }\n",
       "\n",
       "    .dataframe thead th {\n",
       "        text-align: right;\n",
       "    }\n",
       "</style>\n",
       "<table border=\"1\" class=\"dataframe\">\n",
       "  <thead>\n",
       "    <tr style=\"text-align: right;\">\n",
       "      <th></th>\n",
       "      <th>ID</th>\n",
       "      <th>Name</th>\n",
       "      <th>Age</th>\n",
       "      <th>Nationality</th>\n",
       "      <th>Overall</th>\n",
       "      <th>Potential</th>\n",
       "      <th>Club</th>\n",
       "      <th>Value</th>\n",
       "      <th>Wage</th>\n",
       "      <th>Special</th>\n",
       "      <th>...</th>\n",
       "      <th>Body Type</th>\n",
       "      <th>Real Face</th>\n",
       "      <th>Position</th>\n",
       "      <th>Jersey Number</th>\n",
       "      <th>Joined</th>\n",
       "      <th>Loaned From</th>\n",
       "      <th>Contract Valid Until</th>\n",
       "      <th>Height</th>\n",
       "      <th>Weight</th>\n",
       "      <th>Release Clause</th>\n",
       "    </tr>\n",
       "  </thead>\n",
       "  <tbody>\n",
       "    <tr>\n",
       "      <th>0</th>\n",
       "      <td>158023</td>\n",
       "      <td>L. Messi</td>\n",
       "      <td>31</td>\n",
       "      <td>Argentina</td>\n",
       "      <td>94</td>\n",
       "      <td>94</td>\n",
       "      <td>FC Barcelona</td>\n",
       "      <td>�110.5M</td>\n",
       "      <td>�565K</td>\n",
       "      <td>2202</td>\n",
       "      <td>...</td>\n",
       "      <td>Messi</td>\n",
       "      <td>Yes</td>\n",
       "      <td>RF</td>\n",
       "      <td>10.0</td>\n",
       "      <td>01-Jul-04</td>\n",
       "      <td>NaN</td>\n",
       "      <td>2021</td>\n",
       "      <td>5'7</td>\n",
       "      <td>159lbs</td>\n",
       "      <td>�226.5M</td>\n",
       "    </tr>\n",
       "    <tr>\n",
       "      <th>1</th>\n",
       "      <td>20801</td>\n",
       "      <td>Cristiano Ronaldo</td>\n",
       "      <td>33</td>\n",
       "      <td>Portugal</td>\n",
       "      <td>94</td>\n",
       "      <td>94</td>\n",
       "      <td>Juventus</td>\n",
       "      <td>�77M</td>\n",
       "      <td>�405K</td>\n",
       "      <td>2228</td>\n",
       "      <td>...</td>\n",
       "      <td>C. Ronaldo</td>\n",
       "      <td>Yes</td>\n",
       "      <td>ST</td>\n",
       "      <td>7.0</td>\n",
       "      <td>10-Jul-18</td>\n",
       "      <td>NaN</td>\n",
       "      <td>2022</td>\n",
       "      <td>6'2</td>\n",
       "      <td>183lbs</td>\n",
       "      <td>�127.1M</td>\n",
       "    </tr>\n",
       "    <tr>\n",
       "      <th>2</th>\n",
       "      <td>190871</td>\n",
       "      <td>Neymar Jr</td>\n",
       "      <td>26</td>\n",
       "      <td>Brazil</td>\n",
       "      <td>92</td>\n",
       "      <td>93</td>\n",
       "      <td>Paris Saint-Germain</td>\n",
       "      <td>�118.5M</td>\n",
       "      <td>�290K</td>\n",
       "      <td>2143</td>\n",
       "      <td>...</td>\n",
       "      <td>Neymar</td>\n",
       "      <td>Yes</td>\n",
       "      <td>LW</td>\n",
       "      <td>10.0</td>\n",
       "      <td>03-Aug-17</td>\n",
       "      <td>NaN</td>\n",
       "      <td>2022</td>\n",
       "      <td>5'9</td>\n",
       "      <td>150lbs</td>\n",
       "      <td>�228.1M</td>\n",
       "    </tr>\n",
       "    <tr>\n",
       "      <th>3</th>\n",
       "      <td>193080</td>\n",
       "      <td>De Gea</td>\n",
       "      <td>27</td>\n",
       "      <td>Spain</td>\n",
       "      <td>91</td>\n",
       "      <td>93</td>\n",
       "      <td>Manchester United</td>\n",
       "      <td>�72M</td>\n",
       "      <td>�260K</td>\n",
       "      <td>1471</td>\n",
       "      <td>...</td>\n",
       "      <td>Lean</td>\n",
       "      <td>Yes</td>\n",
       "      <td>GK</td>\n",
       "      <td>1.0</td>\n",
       "      <td>01-Jul-11</td>\n",
       "      <td>NaN</td>\n",
       "      <td>2020</td>\n",
       "      <td>6'4</td>\n",
       "      <td>168lbs</td>\n",
       "      <td>�138.6M</td>\n",
       "    </tr>\n",
       "    <tr>\n",
       "      <th>4</th>\n",
       "      <td>192985</td>\n",
       "      <td>K. De Bruyne</td>\n",
       "      <td>27</td>\n",
       "      <td>Belgium</td>\n",
       "      <td>91</td>\n",
       "      <td>92</td>\n",
       "      <td>Manchester City</td>\n",
       "      <td>�102M</td>\n",
       "      <td>�355K</td>\n",
       "      <td>2281</td>\n",
       "      <td>...</td>\n",
       "      <td>Normal</td>\n",
       "      <td>Yes</td>\n",
       "      <td>RCM</td>\n",
       "      <td>7.0</td>\n",
       "      <td>30-Aug-15</td>\n",
       "      <td>NaN</td>\n",
       "      <td>2023</td>\n",
       "      <td>5'11</td>\n",
       "      <td>154lbs</td>\n",
       "      <td>�196.4M</td>\n",
       "    </tr>\n",
       "  </tbody>\n",
       "</table>\n",
       "<p>5 rows × 25 columns</p>\n",
       "</div>"
      ],
      "text/plain": [
       "       ID               Name  Age Nationality  Overall  Potential  \\\n",
       "0  158023           L. Messi   31   Argentina       94         94   \n",
       "1   20801  Cristiano Ronaldo   33    Portugal       94         94   \n",
       "2  190871          Neymar Jr   26      Brazil       92         93   \n",
       "3  193080             De Gea   27       Spain       91         93   \n",
       "4  192985       K. De Bruyne   27     Belgium       91         92   \n",
       "\n",
       "                  Club    Value   Wage  Special  ...   Body Type  Real Face  \\\n",
       "0         FC Barcelona  �110.5M  �565K     2202  ...       Messi        Yes   \n",
       "1             Juventus     �77M  �405K     2228  ...  C. Ronaldo        Yes   \n",
       "2  Paris Saint-Germain  �118.5M  �290K     2143  ...      Neymar        Yes   \n",
       "3    Manchester United     �72M  �260K     1471  ...        Lean        Yes   \n",
       "4      Manchester City    �102M  �355K     2281  ...      Normal        Yes   \n",
       "\n",
       "   Position  Jersey Number     Joined Loaned From Contract Valid Until Height  \\\n",
       "0        RF           10.0  01-Jul-04         NaN                 2021    5'7   \n",
       "1        ST            7.0  10-Jul-18         NaN                 2022    6'2   \n",
       "2        LW           10.0  03-Aug-17         NaN                 2022    5'9   \n",
       "3        GK            1.0  01-Jul-11         NaN                 2020    6'4   \n",
       "4       RCM            7.0  30-Aug-15         NaN                 2023   5'11   \n",
       "\n",
       "   Weight Release Clause  \n",
       "0  159lbs        �226.5M  \n",
       "1  183lbs        �127.1M  \n",
       "2  150lbs        �228.1M  \n",
       "3  168lbs        �138.6M  \n",
       "4  154lbs        �196.4M  \n",
       "\n",
       "[5 rows x 25 columns]"
      ]
     },
     "execution_count": 236,
     "metadata": {},
     "output_type": "execute_result"
    }
   ],
   "source": [
    "d1 = pd.read_csv('football+players+data.csv',index_col=0)\n",
    "d1.head()"
   ]
  },
  {
   "cell_type": "code",
   "execution_count": 156,
   "id": "104e65d9",
   "metadata": {},
   "outputs": [
    {
     "name": "stdout",
     "output_type": "stream",
     "text": [
      "<class 'pandas.core.frame.DataFrame'>\n",
      "Int64Index: 18207 entries, 0 to 18206\n",
      "Data columns (total 25 columns):\n",
      " #   Column                    Non-Null Count  Dtype  \n",
      "---  ------                    --------------  -----  \n",
      " 0   ID                        18207 non-null  int64  \n",
      " 1   Name                      18207 non-null  object \n",
      " 2   Age                       18207 non-null  int64  \n",
      " 3   Nationality               18207 non-null  object \n",
      " 4   Overall                   18207 non-null  int64  \n",
      " 5   Potential                 18207 non-null  int64  \n",
      " 6   Club                      17966 non-null  object \n",
      " 7   Value                     18207 non-null  object \n",
      " 8   Wage                      18207 non-null  object \n",
      " 9   Special                   18207 non-null  int64  \n",
      " 10  Preferred Foot            18159 non-null  object \n",
      " 11  International Reputation  18159 non-null  float64\n",
      " 12  Weak Foot                 18159 non-null  float64\n",
      " 13  Skill Moves               18159 non-null  float64\n",
      " 14  Work Rate                 18159 non-null  object \n",
      " 15  Body Type                 18159 non-null  object \n",
      " 16  Real Face                 18159 non-null  object \n",
      " 17  Position                  18147 non-null  object \n",
      " 18  Jersey Number             18147 non-null  float64\n",
      " 19  Joined                    16654 non-null  object \n",
      " 20  Loaned From               1264 non-null   object \n",
      " 21  Contract Valid Until      17918 non-null  object \n",
      " 22  Height                    18159 non-null  object \n",
      " 23  Weight                    18159 non-null  object \n",
      " 24  Release Clause            16643 non-null  object \n",
      "dtypes: float64(4), int64(5), object(16)\n",
      "memory usage: 3.6+ MB\n"
     ]
    }
   ],
   "source": [
    "d1.info()"
   ]
  },
  {
   "cell_type": "code",
   "execution_count": 235,
   "id": "f1182ab3",
   "metadata": {},
   "outputs": [
    {
     "data": {
      "text/plain": [
       "J. Rodr�guez      11\n",
       "Paulinho           8\n",
       "J. Williams        7\n",
       "R. Williams        7\n",
       "J. Hern�ndez       6\n",
       "                  ..\n",
       "H. Rivero          1\n",
       "Choi Sung Keun     1\n",
       "J. McLaughlin      1\n",
       "J. Reeves          1\n",
       "P. Stolarski       1\n",
       "Name: Name, Length: 17189, dtype: int64"
      ]
     },
     "execution_count": 235,
     "metadata": {},
     "output_type": "execute_result"
    }
   ],
   "source": [
    "d1['Name'].value_counts()"
   ]
  },
  {
   "cell_type": "code",
   "execution_count": 157,
   "id": "5ceb0465",
   "metadata": {},
   "outputs": [
    {
     "data": {
      "text/plain": [
       "ID                           0.000000\n",
       "Name                         0.000000\n",
       "Age                          0.000000\n",
       "Nationality                  0.000000\n",
       "Overall                      0.000000\n",
       "Potential                    0.000000\n",
       "Club                         1.323667\n",
       "Value                        0.000000\n",
       "Wage                         0.000000\n",
       "Special                      0.000000\n",
       "Preferred Foot               0.263635\n",
       "International Reputation     0.263635\n",
       "Weak Foot                    0.263635\n",
       "Skill Moves                  0.263635\n",
       "Work Rate                    0.263635\n",
       "Body Type                    0.263635\n",
       "Real Face                    0.263635\n",
       "Position                     0.329544\n",
       "Jersey Number                0.329544\n",
       "Joined                       8.529686\n",
       "Loaned From                 93.057615\n",
       "Contract Valid Until         1.587302\n",
       "Height                       0.263635\n",
       "Weight                       0.263635\n",
       "Release Clause               8.590103\n",
       "dtype: float64"
      ]
     },
     "execution_count": 157,
     "metadata": {},
     "output_type": "execute_result"
    }
   ],
   "source": [
    "d1.isnull().sum()/len(d1)*100"
   ]
  },
  {
   "cell_type": "code",
   "execution_count": 158,
   "id": "bb4348f2",
   "metadata": {},
   "outputs": [],
   "source": [
    "d1.drop('Loaned From',axis=1,inplace=True)"
   ]
  },
  {
   "cell_type": "code",
   "execution_count": 232,
   "id": "722d83e8",
   "metadata": {},
   "outputs": [
    {
     "data": {
      "text/plain": [
       "array(['�110.5M', '�77M', '�118.5M', '�72M', '�102M', '�93M', '�67M',\n",
       "       '�80M', '�51M', '�68M', '�76.5M', '�44M', '�60M', '�63M', '�89M',\n",
       "       '�83.5M', '�78M', '�58M', '�53.5M', '�51.5M', '�38M', '�64.5M',\n",
       "       '�27M', '�81M', '�69.5M', '�59.5M', '�62M', '�73.5M', '�59M',\n",
       "       '�46M', '�43M', '�36M', '�57M', '�24M', '�30M', '�4M', '�64M',\n",
       "       '�30.5M', '�62.5M', '�52M', '�45M', '�34M', '�46.5M', '�61M',\n",
       "       '�41.5M', '�44.5M', '�56.5M', '�53M', '�50M', '�55M', '�36.5M',\n",
       "       '�45.5M', '�43.5M', '�35M', '�39M', '�18M', '�21.5M', '�50.5M',\n",
       "       '�54M', '�40.5M', '�37.5M', '�28.5M', '�37M', '�32M', '�26M',\n",
       "       '�33M', '�38.5M', '�35.5M', '�9M', '�15.5M', '�22M', '�14M',\n",
       "       '�42.5M', '�31.5M', '�42M', '�25M', '�29.5M', '�31M', '�24.5M',\n",
       "       '�27.5M', '�29M', '�16.5M', '�23M', '�19M', '�4.2M', '�40M',\n",
       "       '�41M', '�28M', '�22.5M', '�34.5M', '�32.5M', '�20M', '�26.5M',\n",
       "       '�25.5M', '�21M', '�13M', '�17.5M', '�11.5M', '�8M', '�6M',\n",
       "       '�19.5M', '�6.5M', '�20.5M', '�23.5M', '�18.5M', '�17M', '�12.5M',\n",
       "       '�15M', '�13.5M', '�4.8M', '�3M', '�1.5M', '�16M', '�10M', '�11M',\n",
       "       '�7M', '�14.5M', '�5.5M', '�10.5M', '�4.5M', '�12M', '� 0',\n",
       "       '�9.5M', '�8.5M', '�2M', '�1.7M', '�1M', '�3.6M', '�7.5M', '�3.8M',\n",
       "       '�5M', '�2.4M', '�2.9M', '�4.7M', '�4.1M', '�2.1M', '�600K',\n",
       "       '�2.7M', '�3.4M', '�2.5M', '�3.2M', '�3.1M', '�4.9M', '�4.3M',\n",
       "       '�2.3M', '�525K', '�3.9M', '�1.8M', '�2.2M', '�4.4M', '�1.6M',\n",
       "       '�900K', '�3.7M', '�3.5M', '�1.9M', '�450K', '�775K', '�650K',\n",
       "       '�750K', '�2.8M', '�1.3M', '�4.6M', '�2.6M', '�1.2M', '�375K',\n",
       "       '�3.3M', '�270K', '�950K', '�550K', '�1.1M', '�975K', '�1.4M',\n",
       "       '�725K', '�425K', '�210K', '�875K', '�675K', '�325K', '�800K',\n",
       "       '�850K', '�160K', '�120K', '�825K', '�925K', '�625K', '�240K',\n",
       "       '�500K', '�575K', '�200K', '�250K', '�700K', '�350K', '�475K',\n",
       "       '�300K', '�70K', '�140K', '�230K', '�400K', '�280K', '�100K',\n",
       "       '�60K', '�260K', '�180K', '�220K', '�50K', '�290K', '�90K',\n",
       "       '�150K', '�40K', '�130K', '�190K', '�170K', '�110K', '�30K',\n",
       "       '�80K', '�20K', '�10K'], dtype=object)"
      ]
     },
     "execution_count": 232,
     "metadata": {},
     "output_type": "execute_result"
    }
   ],
   "source": [
    "d1['Value'].unique()"
   ]
  },
  {
   "cell_type": "code",
   "execution_count": 162,
   "id": "07972a75",
   "metadata": {},
   "outputs": [],
   "source": [
    "d1['Value'] = d1['Value'].str.replace('M','')\n",
    "d1['Value'] = d1['Value'].str.replace('K','')\n",
    "d1['Value'] = d1['Value'].str.replace('�','')\n",
    "d1['Value'] = d1['Value'].apply(lambda x:x.strip())"
   ]
  },
  {
   "cell_type": "code",
   "execution_count": 163,
   "id": "b6fa6d5c",
   "metadata": {},
   "outputs": [
    {
     "data": {
      "text/plain": [
       "array(['110.5', '77', '118.5', '72', '102', '93', '67', '80', '51', '68',\n",
       "       '76.5', '44', '60', '63', '89', '83.5', '78', '58', '53.5', '51.5',\n",
       "       '38', '64.5', '27', '81', '69.5', '59.5', '62', '73.5', '59', '46',\n",
       "       '43', '36', '57', '24', '30', '4', '64', '30.5', '62.5', '52',\n",
       "       '45', '34', '46.5', '61', '41.5', '44.5', '56.5', '53', '50', '55',\n",
       "       '36.5', '45.5', '43.5', '35', '39', '18', '21.5', '50.5', '54',\n",
       "       '40.5', '37.5', '28.5', '37', '32', '26', '33', '38.5', '35.5',\n",
       "       '9', '15.5', '22', '14', '42.5', '31.5', '42', '25', '29.5', '31',\n",
       "       '24.5', '27.5', '29', '16.5', '23', '19', '4.2', '40', '41', '28',\n",
       "       '22.5', '34.5', '32.5', '20', '26.5', '25.5', '21', '13', '17.5',\n",
       "       '11.5', '8', '6', '19.5', '6.5', '20.5', '23.5', '18.5', '17',\n",
       "       '12.5', '15', '13.5', '4.8', '3', '1.5', '16', '10', '11', '7',\n",
       "       '14.5', '5.5', '10.5', '4.5', '12', '0', '9.5', '8.5', '2', '1.7',\n",
       "       '1', '3.6', '7.5', '3.8', '5', '2.4', '2.9', '4.7', '4.1', '2.1',\n",
       "       '600', '2.7', '3.4', '2.5', '3.2', '3.1', '4.9', '4.3', '2.3',\n",
       "       '525', '3.9', '1.8', '2.2', '4.4', '1.6', '900', '3.7', '3.5',\n",
       "       '1.9', '450', '775', '650', '750', '2.8', '1.3', '4.6', '2.6',\n",
       "       '1.2', '375', '3.3', '270', '950', '550', '1.1', '975', '1.4',\n",
       "       '725', '425', '210', '875', '675', '325', '800', '850', '160',\n",
       "       '120', '825', '925', '625', '240', '500', '575', '200', '250',\n",
       "       '700', '350', '475', '300', '70', '140', '230', '400', '280',\n",
       "       '100', '260', '180', '220', '290', '90', '150', '130', '190',\n",
       "       '170', '110'], dtype=object)"
      ]
     },
     "execution_count": 163,
     "metadata": {},
     "output_type": "execute_result"
    }
   ],
   "source": [
    "d1['Value'].unique()"
   ]
  },
  {
   "cell_type": "code",
   "execution_count": 164,
   "id": "71bdcd27",
   "metadata": {},
   "outputs": [
    {
     "data": {
      "text/plain": [
       "array(['�565K', '�405K', '�290K', '�260K', '�355K', '�340K', '�420K',\n",
       "       '�455K', '�380K', '�94K', '�205K', '�125K', '�285K', '�225K',\n",
       "       '�145K', '�240K', '�315K', '�200K', '�130K', '�300K', '�215K',\n",
       "       '�100K', '�255K', '�165K', '�265K', '�160K', '�150K', '�245K',\n",
       "       '�110K', '�77K', '�115K', '�210K', '�195K', '�230K', '�250K',\n",
       "       '�135K', '�155K', '�180K', '�175K', '�190K', '�185K', '�21K',\n",
       "       '�82K', '�73K', '�92K', '�88K', '�96K', '�170K', '�66K', '�235K',\n",
       "       '�28K', '�105K', '�38K', '�81K', '�57K', '�15K', '�63K', '�22K',\n",
       "       '�84K', '�120K', '�90K', '�72K', '�93K', '�45K', '�74K', '�51K',\n",
       "       '�42K', '�31K', '�75K', '�25K', '�140K', '�41K', '�78K', '�53K',\n",
       "       '�95K', '�80K', '�43K', '�60K', '�85K', '�64K', '�67K', '�18K',\n",
       "       '�70K', '�91K', '�20K', '�49K', '�87K', '�86K', '�26K', '�29K',\n",
       "       '�55K', '�35K', '�33K', '�56K', '�30K', '�11K', '�59K', '�23K',\n",
       "       '�46K', '�39K', '�32K', '�36K', '�98K', '�54K', '�68K', '�58K',\n",
       "       '�27K', '�40K', '�44K', '�19K', '�1K', '�61K', '�50K', '�99K',\n",
       "       '�17K', '�52K', '�62K', '�12K', '�10K', '�71K', '�14K', '�76K',\n",
       "       '�48K', '�65K', '�69K', '�24K', '�34K', '�16K', '�37K', '�47K',\n",
       "       '�89K', '� 0', '�97K', '�79K', '�13K', '�83K', '�6K', '�3K', '�9K',\n",
       "       '�8K', '�7K', '�4K', '�2K', '�5K'], dtype=object)"
      ]
     },
     "execution_count": 164,
     "metadata": {},
     "output_type": "execute_result"
    }
   ],
   "source": [
    "d1['Wage'].unique()"
   ]
  },
  {
   "cell_type": "code",
   "execution_count": 165,
   "id": "47960a96",
   "metadata": {
    "scrolled": true
   },
   "outputs": [],
   "source": [
    "d1['Wage'] = d1['Wage'].str.replace(\"�\",\"\")\n",
    "d1['Wage'] = d1['Wage'].str.replace('K','')\n",
    "d1['Wage'] = d1['Wage'].apply(lambda x:x.strip())"
   ]
  },
  {
   "cell_type": "code",
   "execution_count": 166,
   "id": "989d5578",
   "metadata": {},
   "outputs": [
    {
     "data": {
      "text/plain": [
       "array(['565', '405', '290', '260', '355', '340', '420', '455', '380',\n",
       "       '94', '205', '125', '285', '225', '145', '240', '315', '200',\n",
       "       '130', '300', '215', '100', '255', '165', '265', '160', '150',\n",
       "       '245', '110', '77', '115', '210', '195', '230', '250', '135',\n",
       "       '155', '180', '175', '190', '185', '21', '82', '73', '92', '88',\n",
       "       '96', '170', '66', '235', '28', '105', '38', '81', '57', '15',\n",
       "       '63', '22', '84', '120', '90', '72', '93', '45', '74', '51', '42',\n",
       "       '31', '75', '25', '140', '41', '78', '53', '95', '80', '43', '60',\n",
       "       '85', '64', '67', '18', '70', '91', '20', '49', '87', '86', '26',\n",
       "       '29', '55', '35', '33', '56', '30', '11', '59', '23', '46', '39',\n",
       "       '32', '36', '98', '54', '68', '58', '27', '40', '44', '19', '1',\n",
       "       '61', '50', '99', '17', '52', '62', '12', '10', '71', '14', '76',\n",
       "       '48', '65', '69', '24', '34', '16', '37', '47', '89', '0', '97',\n",
       "       '79', '13', '83', '6', '3', '9', '8', '7', '4', '2', '5'],\n",
       "      dtype=object)"
      ]
     },
     "execution_count": 166,
     "metadata": {},
     "output_type": "execute_result"
    }
   ],
   "source": [
    "d1['Wage'].unique()"
   ]
  },
  {
   "cell_type": "code",
   "execution_count": 167,
   "id": "f9851a30",
   "metadata": {},
   "outputs": [
    {
     "data": {
      "text/plain": [
       "array(['2021', '2022', '2020', '2023', '2019', '2024', '30-Jun-19',\n",
       "       '2025', '2026', '31-Dec-18', '2018', nan, '31-May-20', '30-Jun-20',\n",
       "       '31-May-19', '31-Dec-19', '01-Jan-19', '01-Jun-19', '04-Jan-19',\n",
       "       '31-Jan-19', '07-Jan-19', '02-Jan-19', '06-Jan-19', '14-Oct-19',\n",
       "       '03-Jan-19', '04-May-19', '12-Jan-19', '25-Jan-19', '18-Jan-19',\n",
       "       '01-Dec-19', '30-Nov-18', '27-Feb-20', '05-Jan-19', '15-Jan-19',\n",
       "       '30-Jan-19', '11-Jan-19', '20-Jan-19'], dtype=object)"
      ]
     },
     "execution_count": 167,
     "metadata": {},
     "output_type": "execute_result"
    }
   ],
   "source": [
    "d1['Contract Valid Until'].unique()"
   ]
  },
  {
   "cell_type": "code",
   "execution_count": 168,
   "id": "6ad1e71d",
   "metadata": {},
   "outputs": [],
   "source": [
    "d1.dropna(subset=['Contract Valid Until'],inplace=True)"
   ]
  },
  {
   "cell_type": "code",
   "execution_count": 169,
   "id": "dbbcf5cc",
   "metadata": {},
   "outputs": [],
   "source": [
    "from datetime import datetime\n",
    "loc = []\n",
    "\n",
    "for i in d1['Contract Valid Until']:\n",
    "    if len(i)<=4:\n",
    "        loc.append(int(i))\n",
    "    else:\n",
    "        a = datetime.strptime(i, '%d-%b-%y').year\n",
    "        loc.append(a)"
   ]
  },
  {
   "cell_type": "code",
   "execution_count": 170,
   "id": "828bb4c7",
   "metadata": {},
   "outputs": [],
   "source": [
    "d1['Contract Valid Until'] = loc"
   ]
  },
  {
   "cell_type": "code",
   "execution_count": 225,
   "id": "8c349c01",
   "metadata": {},
   "outputs": [
    {
     "data": {
      "text/plain": [
       "0        2021\n",
       "1        2022\n",
       "2        2022\n",
       "3        2020\n",
       "4        2023\n",
       "         ... \n",
       "18202    2019\n",
       "18203    2020\n",
       "18204    2021\n",
       "18205    2019\n",
       "18206    2019\n",
       "Name: Contract Valid Until, Length: 16643, dtype: int64"
      ]
     },
     "execution_count": 225,
     "metadata": {},
     "output_type": "execute_result"
    }
   ],
   "source": [
    "d1['Contract Valid Until']"
   ]
  },
  {
   "cell_type": "code",
   "execution_count": 172,
   "id": "a6ab9a7b",
   "metadata": {},
   "outputs": [],
   "source": [
    "d1['Wage'] = pd.to_numeric(d1['Wage'])\n",
    "d1['Value'] = pd.to_numeric(d1['Value'])"
   ]
  },
  {
   "cell_type": "code",
   "execution_count": 173,
   "id": "5db2262e",
   "metadata": {
    "scrolled": true
   },
   "outputs": [
    {
     "name": "stdout",
     "output_type": "stream",
     "text": [
      "<class 'pandas.core.frame.DataFrame'>\n",
      "Int64Index: 17918 entries, 0 to 18206\n",
      "Data columns (total 24 columns):\n",
      " #   Column                    Non-Null Count  Dtype  \n",
      "---  ------                    --------------  -----  \n",
      " 0   ID                        17918 non-null  int64  \n",
      " 1   Name                      17918 non-null  object \n",
      " 2   Age                       17918 non-null  int64  \n",
      " 3   Nationality               17918 non-null  object \n",
      " 4   Overall                   17918 non-null  int64  \n",
      " 5   Potential                 17918 non-null  int64  \n",
      " 6   Club                      17918 non-null  object \n",
      " 7   Value                     17918 non-null  float64\n",
      " 8   Wage                      17918 non-null  int64  \n",
      " 9   Special                   17918 non-null  int64  \n",
      " 10  Preferred Foot            17918 non-null  object \n",
      " 11  International Reputation  17918 non-null  float64\n",
      " 12  Weak Foot                 17918 non-null  float64\n",
      " 13  Skill Moves               17918 non-null  float64\n",
      " 14  Work Rate                 17918 non-null  object \n",
      " 15  Body Type                 17918 non-null  object \n",
      " 16  Real Face                 17918 non-null  object \n",
      " 17  Position                  17918 non-null  object \n",
      " 18  Jersey Number             17918 non-null  float64\n",
      " 19  Joined                    16654 non-null  object \n",
      " 20  Contract Valid Until      17918 non-null  int64  \n",
      " 21  Height                    17918 non-null  object \n",
      " 22  Weight                    17918 non-null  object \n",
      " 23  Release Clause            16643 non-null  object \n",
      "dtypes: float64(5), int64(7), object(12)\n",
      "memory usage: 3.4+ MB\n"
     ]
    }
   ],
   "source": [
    "d1.info()"
   ]
  },
  {
   "cell_type": "code",
   "execution_count": 174,
   "id": "5e36a1c5",
   "metadata": {},
   "outputs": [
    {
     "data": {
      "text/plain": [
       "(17918, 24)"
      ]
     },
     "execution_count": 174,
     "metadata": {},
     "output_type": "execute_result"
    }
   ],
   "source": [
    "d1.shape"
   ]
  },
  {
   "cell_type": "code",
   "execution_count": 175,
   "id": "d6d2bef7",
   "metadata": {},
   "outputs": [
    {
     "data": {
      "text/plain": [
       "array([158023,  20801, 190871, ..., 241638, 246268, 246269], dtype=int64)"
      ]
     },
     "execution_count": 175,
     "metadata": {},
     "output_type": "execute_result"
    }
   ],
   "source": [
    "d1['ID'].unique()"
   ]
  },
  {
   "cell_type": "code",
   "execution_count": 176,
   "id": "cdf9c876",
   "metadata": {},
   "outputs": [
    {
     "data": {
      "text/plain": [
       "array(['L. Messi', 'Cristiano Ronaldo', 'Neymar Jr', ..., 'B. Worman',\n",
       "       'D. Walker-Rice', 'G. Nugent'], dtype=object)"
      ]
     },
     "execution_count": 176,
     "metadata": {},
     "output_type": "execute_result"
    }
   ],
   "source": [
    "d1['Name'].unique()"
   ]
  },
  {
   "cell_type": "code",
   "execution_count": 177,
   "id": "98bf9fb2",
   "metadata": {},
   "outputs": [
    {
     "data": {
      "text/plain": [
       "array([31, 33, 26, 27, 32, 25, 29, 28, 24, 30, 19, 40, 22, 23, 34, 35, 36,\n",
       "       37, 21, 18, 20, 39, 17, 38, 41, 45, 42, 16, 44], dtype=int64)"
      ]
     },
     "execution_count": 177,
     "metadata": {},
     "output_type": "execute_result"
    }
   ],
   "source": [
    "d1['Age'].unique()"
   ]
  },
  {
   "cell_type": "code",
   "execution_count": 178,
   "id": "721ef145",
   "metadata": {},
   "outputs": [
    {
     "data": {
      "text/plain": [
       "array(['Argentina', 'Portugal', 'Brazil', 'Spain', 'Belgium', 'Croatia',\n",
       "       'Uruguay', 'Slovenia', 'Poland', 'Germany', 'France', 'England',\n",
       "       'Italy', 'Egypt', 'Colombia', 'Denmark', 'Gabon', 'Wales',\n",
       "       'Senegal', 'Costa Rica', 'Slovakia', 'Netherlands',\n",
       "       'Bosnia Herzegovina', 'Morocco', 'Serbia', 'Algeria', 'Austria',\n",
       "       'Greece', 'Chile', 'Sweden', 'Korea Republic', 'Finland', 'Guinea',\n",
       "       'Montenegro', 'Armenia', 'Switzerland', 'Norway', 'Czech Republic',\n",
       "       'Scotland', 'Ghana', 'Central African Rep.', 'DR Congo',\n",
       "       'Ivory Coast', 'Russia', 'Ukraine', 'Iceland', 'Mexico', 'Jamaica',\n",
       "       'Albania', 'Venezuela', 'Japan', 'Turkey', 'Ecuador', 'Paraguay',\n",
       "       'Mali', 'Nigeria', 'Cameroon', 'Dominican Republic', 'Israel',\n",
       "       'Kenya', 'Hungary', 'Republic of Ireland', 'Romania',\n",
       "       'United States', 'Cape Verde', 'Australia', 'Peru', 'Togo',\n",
       "       'Syria', 'Zimbabwe', 'Angola', 'Burkina Faso', 'Iran', 'Estonia',\n",
       "       'Tunisia', 'Equatorial Guinea', 'New Zealand', 'FYR Macedonia',\n",
       "       'United Arab Emirates', 'China PR', 'Guinea Bissau', 'Bulgaria',\n",
       "       'Kosovo', 'South Africa', 'Madagascar', 'Georgia', 'Tanzania',\n",
       "       'Gambia', 'Cuba', 'Belarus', 'Uzbekistan', 'Benin', 'Congo',\n",
       "       'Mozambique', 'Honduras', 'Canada', 'Northern Ireland', 'Cyprus',\n",
       "       'Saudi Arabia', 'Curacao', 'Moldova', 'Bolivia',\n",
       "       'Trinidad & Tobago', 'Sierra Leone', 'Zambia', 'Chad',\n",
       "       'Philippines', 'Haiti', 'Comoros', 'Libya', 'Panama',\n",
       "       'S�o Tom� & Pr�ncipe', 'Eritrea', 'Oman', 'Iraq', 'Burundi',\n",
       "       'Fiji', 'New Caledonia', 'Lithuania', 'Luxembourg', 'Korea DPR',\n",
       "       'Liechtenstein', 'St Kitts Nevis', 'Latvia', 'Suriname', 'Uganda',\n",
       "       'El Salvador', 'Bermuda', 'Kuwait', 'Antigua & Barbuda',\n",
       "       'Thailand', 'Mauritius', 'Guatemala', 'Liberia', 'Kazakhstan',\n",
       "       'Niger', 'Mauritania', 'Montserrat', 'Namibia', 'Azerbaijan',\n",
       "       'Guam', 'Faroe Islands', 'Nicaragua', 'Barbados', 'Lebanon',\n",
       "       'Palestine', 'Guyana', 'Sudan', 'St Lucia', 'Ethiopia',\n",
       "       'Puerto Rico', 'Grenada', 'Jordan', 'Rwanda', 'Qatar',\n",
       "       'Afghanistan', 'Hong Kong', 'Andorra', 'Malta', 'Belize',\n",
       "       'South Sudan', 'Indonesia', 'Botswana'], dtype=object)"
      ]
     },
     "execution_count": 178,
     "metadata": {},
     "output_type": "execute_result"
    }
   ],
   "source": [
    "d1['Nationality'].unique()"
   ]
  },
  {
   "cell_type": "code",
   "execution_count": 179,
   "id": "d55fccc9",
   "metadata": {},
   "outputs": [
    {
     "data": {
      "text/plain": [
       "array([94, 92, 91, 90, 89, 88, 87, 86, 85, 84, 83, 82, 81, 80, 79, 78, 77,\n",
       "       76, 75, 74, 73, 72, 71, 70, 69, 68, 67, 66, 65, 64, 63, 62, 61, 60,\n",
       "       59, 58, 57, 56, 55, 54, 53, 52, 51, 50, 49, 48, 47, 46],\n",
       "      dtype=int64)"
      ]
     },
     "execution_count": 179,
     "metadata": {},
     "output_type": "execute_result"
    }
   ],
   "source": [
    "d1['Overall'].unique()"
   ]
  },
  {
   "cell_type": "code",
   "execution_count": 180,
   "id": "ed76ec28",
   "metadata": {},
   "outputs": [
    {
     "data": {
      "text/plain": [
       "array([94, 93, 92, 91, 90, 89, 95, 88, 87, 86, 85, 84, 83, 82, 81, 80, 79,\n",
       "       78, 77, 76, 75, 74, 73, 72, 71, 70, 69, 68, 67, 66, 65, 64, 63, 62,\n",
       "       61, 60, 59, 58, 57, 56, 55, 54, 53, 52, 51, 50, 48], dtype=int64)"
      ]
     },
     "execution_count": 180,
     "metadata": {},
     "output_type": "execute_result"
    }
   ],
   "source": [
    "d1['Potential'].unique()"
   ]
  },
  {
   "cell_type": "code",
   "execution_count": 181,
   "id": "c2227c41",
   "metadata": {},
   "outputs": [
    {
     "data": {
      "text/plain": [
       "array(['FC Barcelona', 'Juventus', 'Paris Saint-Germain',\n",
       "       'Manchester United', 'Manchester City', 'Chelsea', 'Real Madrid',\n",
       "       'Atl�tico Madrid', 'FC Bayern M�nchen', 'Tottenham Hotspur',\n",
       "       'Liverpool', 'Napoli', 'Arsenal', 'Milan', 'Inter', 'Lazio',\n",
       "       'Borussia Dortmund', 'Vissel Kobe', 'Olympique Lyonnais', 'Roma',\n",
       "       'Valencia CF', 'Guangzhou Evergrande Taobao FC', 'FC Porto',\n",
       "       'FC Schalke 04', 'Be?ikta? JK', 'LA Galaxy', 'Sporting CP',\n",
       "       'Real Betis', 'Olympique de Marseille', 'RC Celta',\n",
       "       'Bayer 04 Leverkusen', 'Real Sociedad', 'Villarreal CF',\n",
       "       'Sevilla FC', 'SL Benfica', 'AS Saint-�tienne', 'AS Monaco',\n",
       "       'Leicester City', 'Atalanta', 'Gr�mio', 'Atl�tico Mineiro',\n",
       "       'RB Leipzig', 'Ajax', 'Dalian YiFang FC', 'Everton',\n",
       "       'West Ham United', '1. FC K�ln', 'TSG 1899 Hoffenheim',\n",
       "       'Shanghai SIPG FC', 'OGC Nice', 'Al Nassr',\n",
       "       'Wolverhampton Wanderers', 'Borussia M�nchengladbach',\n",
       "       'Hertha BSC', 'SV Werder Bremen', 'Cruzeiro',\n",
       "       'Athletic Club de Bilbao', 'Torino', 'Medipol Ba?ak?ehir FK',\n",
       "       'Beijing Sinobo Guoan FC', 'Crystal Palace', 'PFC CSKA Moscow',\n",
       "       'VfL Wolfsburg', 'Shakhtar Donetsk', 'Toronto FC',\n",
       "       'Lokomotiv Moscow', 'Sassuolo', 'New York City FC', 'Fluminense',\n",
       "       'PSV', 'Levante UD', 'Fulham', 'Watford', 'Atlanta United',\n",
       "       'Montpellier HSC', 'Galatasaray SK', 'Fenerbah�e SK', 'SD Eibar',\n",
       "       'Los Angeles FC', 'Sampdoria', 'Al Hilal', 'VfB Stuttgart',\n",
       "       'SC Braga', 'River Plate', 'Deportivo Alav�s',\n",
       "       'Eintracht Frankfurt', 'Girona FC', 'Guangzhou R&F; FC', 'Burnley',\n",
       "       'Stoke City', 'Southampton', 'Tianjin Quanjian FC', 'Getafe CF',\n",
       "       'Beijing Renhe FC', 'Montreal Impact', 'Chievo Verona', 'Genoa',\n",
       "       'Portland Timbers', 'Tigres U.A.N.L.', 'RCD Espanyol',\n",
       "       'Hebei China Fortune FC', 'Cagliari', 'Chicago Fire', 'DC United',\n",
       "       'Sagan Tosu', 'Dynamo Kyiv', 'Santos', 'Internacional',\n",
       "       'Am�rica FC (Minas Gerais)', 'Independiente', 'Boca Juniors',\n",
       "       'Cruz Azul', '1. FSV Mainz 05', 'Bournemouth', 'Spartak Moscow',\n",
       "       'Racing Club', 'FC Augsburg', 'Fiorentina', 'FC Nantes',\n",
       "       'Feyenoord', 'Club Brugge KV', 'Brighton & Hove Albion', 'Al Ahli',\n",
       "       'Jiangsu Suning FC', 'SC Freiburg', 'PAOK', 'Stade Rennais FC',\n",
       "       'Trabzonspor', 'SPAL', 'Portimonense SC', 'Olympiacos CFP',\n",
       "       'Club Atl�tico Hurac�n', 'Kasimpa?a SK', 'Newcastle United',\n",
       "       'Frosinone', 'Quer�taro', 'KRC Genk', 'Hannover 96',\n",
       "       'Stade Malherbe Caen', 'Godoy Cruz', 'Toulouse Football Club',\n",
       "       'RSC Anderlecht', 'Huddersfield Town', 'CD Tondela',\n",
       "       'Seattle Sounders FC', 'Hamburger SV', 'FC Red Bull Salzburg',\n",
       "       'Rio Ave FC', 'FC Girondins de Bordeaux', 'Melbourne Victory',\n",
       "       'Parma', 'FC Basel 1893', 'Al Wehda', 'BSC Young Boys', 'KAA Gent',\n",
       "       'Al Ittihad', 'Standard de Li�ge', 'Shanghai Greenland Shenhua FC',\n",
       "       'Colo-Colo', 'Junior FC', 'West Bromwich Albion',\n",
       "       'RC Strasbourg Alsace', 'G�ztepe SK', 'Deportivo Cali',\n",
       "       'Deportivo Toluca', 'Bologna', 'Nagoya Grampus', 'Amiens SC',\n",
       "       'Changchun Yatai FC', 'Club Atl�tico Lan�s', 'Botafogo',\n",
       "       'Club Am�rica', 'Udinese', 'Real Valladolid CF', 'CD Legan�s',\n",
       "       'Club Atl�tico Banfield', 'Celtic', 'Vit�ria Guimar�es',\n",
       "       'FC K�benhavn', 'UD Las Palmas', 'Deportivo de La Coru�a',\n",
       "       'Universidad Cat�lica', 'San Lorenzo de Almagro', 'Rayo Vallecano',\n",
       "       'Monterrey', 'Columbus Crew SC', 'MKE Ankarag�c�',\n",
       "       'Guizhou Hengfeng FC', 'Swansea City', 'Tianjin TEDA FC',\n",
       "       'Chongqing Dangdai Lifan FC SWM Team', 'AEK Athens', 'Al Taawoun',\n",
       "       'Melbourne City FC', 'En Avant de Guingamp',\n",
       "       'Akhisar Belediyespor', 'Foggia', 'LOSC Lille', '1. FC N�rnberg',\n",
       "       'Clube Sport Mar�timo', 'Real Sporting de Gij�n', 'BB Erzurumspor',\n",
       "       'Shandong Luneng TaiShan FC', 'Club Atl�tico Col�n', 'Bahia',\n",
       "       'Once Caldas', 'FC Groningen', 'Angers SCO', 'Paran�',\n",
       "       'Antalyaspor', 'Minnesota United FC', 'Club Le�n', 'Empoli',\n",
       "       'VVV-Venlo', 'Leeds United', 'Viktoria Plze?', 'Alanyaspor',\n",
       "       'Atl�tico Paranaense', 'Derby County', 'Kawasaki Frontale',\n",
       "       'Cardiff City', 'Aston Villa', 'Guadalajara', 'Dijon FCO',\n",
       "       'Santos Laguna', 'M�laga CF', 'Vit�ria', '�aykur Rizespor',\n",
       "       'U.N.A.M.', 'Nottingham Forest', 'Royal Antwerp FC',\n",
       "       'Club Tijuana', 'Sport Club do Recife', 'Real Salt Lake',\n",
       "       'AZ Alkmaar', 'SK Slavia Praha', 'Willem II', 'Middlesbrough',\n",
       "       'Dinamo Zagreb', 'Club Atlas', 'Granada CF', 'Sydney FC',\n",
       "       'Sporting Kansas City', 'SV Zulte-Waregem', 'Philadelphia Union',\n",
       "       'Real Oviedo', 'Pachuca', 'Boavista FC', 'Atiker Konyaspor',\n",
       "       'Kaizer Chiefs', 'GD Chaves', 'Palermo', 'Atl�tico Nacional',\n",
       "       'Puebla FC', 'Perth Glory', 'Panathinaikos FC', 'FC Sion',\n",
       "       'Vit�ria de Set�bal', 'New York Red Bulls', 'Al Shabab',\n",
       "       'Monarcas Morelia', 'Albacete BP', 'Rangers FC', 'Sparta Praha',\n",
       "       'Legia Warszawa', 'Urawa Red Diamonds', 'Rosario Central',\n",
       "       'Stade de Reims', 'ADO Den Haag', 'Chapecoense', 'FC Midtjylland',\n",
       "       'San Jose Earthquakes', 'Belgrano de C�rdoba', 'Brescia',\n",
       "       'Kashima Antlers', 'CD Everton de Vi�a del Mar',\n",
       "       'Fortuna D�sseldorf', 'SD Huesca', 'Preston North End',\n",
       "       'Club Atl�tico Talleres', 'Benevento', 'Vitesse',\n",
       "       'Gimnasia y Esgrima La Plata', 'Houston Dynamo', 'Club Necaxa',\n",
       "       'Norwich City', 'Holstein Kiel', 'Ettifaq FC', 'Kayserispor',\n",
       "       '1. FC Heidenheim 1846', 'Brentford', 'Yeni Malatyaspor',\n",
       "       'Lobos BUAP', 'Bursaspor', 'Cear� Sporting Club',\n",
       "       'Sheffield United', 'FC Ingolstadt 04', 'Estudiantes de La Plata',\n",
       "       'AIK', 'Queens Park Rangers', 'Suwon Samsung Bluewings',\n",
       "       'Heart of Midlothian', 'Reading', 'FC Dallas', 'Heracles Almelo',\n",
       "       'Venezia FC', 'CD Lugo', 'Henan Jianye FC', 'Orlando City SC',\n",
       "       'CA Osasuna', 'NAC Breda', 'Livorno', 'Universidad de Chile',\n",
       "       'Br�ndby IF', 'Aberdeen', 'Defensa y Justicia', 'Atl�tico Tucum�n',\n",
       "       'Blackburn Rovers', 'SV Darmstadt 98', 'Moreirense FC',\n",
       "       'Sanfrecce Hiroshima', 'CD Numancia', 'KV Oostende', 'FC Utrecht',\n",
       "       'Vancouver Whitecaps FC', 'Odense Boldklub', 'SC Heerenveen',\n",
       "       'Racing Club de Lens', 'Independiente Santa Fe',\n",
       "       'Sporting de Charleroi', 'Millonarios FC', 'Sheffield Wednesday',\n",
       "       'Perugia', 'Daegu FC', 'V�lez Sarsfield',\n",
       "       'Grasshopper Club Z�rich', 'Sivasspor', 'N�mes Olympique',\n",
       "       'Rosenborg BK', 'SK Sturm Graz', 'FC Metz',\n",
       "       'CD Universidad de Concepci�n', 'Hellas Verona', 'Brisbane Roar',\n",
       "       'CD Feirense', 'Hull City', 'Waasland-Beveren', 'Neuch�tel Xamax',\n",
       "       'Real Zaragoza', 'CD Aves', 'Millwall', 'Uni�n de Santa Fe',\n",
       "       'KAS Eupen', 'C�diz CF', 'FC Tokyo', 'CD Tenerife',\n",
       "       '1. FC Union Berlin', 'Al Fayha', 'AJ Auxerre',\n",
       "       'Patriotas Boyac� FC', 'Molde FK', 'Bristol City', 'CD Nacional',\n",
       "       'Sporting Lokeren', 'FC St. Pauli', 'Deportes Iquique',\n",
       "       'Al Qadisiyah', 'Atl�tico Bucaramanga', 'Club Atl�tico Tigre',\n",
       "       'FK Austria Wien', 'Patronato', 'Malm� FF', 'Kashiwa Reysol',\n",
       "       'US Cremonese', 'VfL Bochum 1848', 'SK Rapid Wien',\n",
       "       'KSV Cercle Brugge', 'Rionegro �guilas', 'Gimn�stic de Tarragona',\n",
       "       'Lecce', 'Santa Clara', 'BK H�cken', 'New England Revolution',\n",
       "       'Orlando Pirates', 'Atl�tico Huila', 'Western Sydney Wanderers',\n",
       "       'Kalmar FF', 'Independiente Medell�n', 'Fortuna Sittard',\n",
       "       'Lech Pozna?', 'Djurg�rdens IF', 'CF Reus Deportiu', 'SK Brann',\n",
       "       'Ulsan Hyundai FC', 'Sint-Truidense VV', 'Carpi', 'Al Fateh',\n",
       "       'Royal Excel Mouscron', 'AC Ajaccio', 'PEC Zwolle', 'Sunderland',\n",
       "       'Club Atl�tico Aldosivi', 'US Salernitana 1919', 'FC Lorient',\n",
       "       'Argentinos Juniors', 'AD Alcorc�n', 'Crotone', 'Excelsior',\n",
       "       'KV Kortrijk', 'IFK Norrk�ping', 'Adelaide United',\n",
       "       'FC St. Gallen', 'Tiburones Rojos de Veracruz', 'CD Palestino',\n",
       "       'Jeju United FC', 'Deportes Tolima', 'Jeonbuk Hyundai Motors',\n",
       "       'Birmingham City', 'Am�rica de Cali', 'La Equidad', 'Spezia',\n",
       "       'Aalborg BK', 'Le Havre AC', 'G�rnik Zabrze',\n",
       "       'Central Coast Mariners', 'Wigan Athletic',\n",
       "       'Jagiellonia Bia?ystok', 'Cittadella', 'Hibernian', 'FC Lugano',\n",
       "       'San Mart�n de San Juan', 'Str�msgodset IF', 'J�bilo Iwata',\n",
       "       \"Newell's Old Boys\", 'Al Faisaly', 'Colorado Rapids',\n",
       "       'IF Elfsborg', 'SV Sandhausen', 'Al Batin', 'Stade Brestois 29',\n",
       "       'UD Almer�a', 'Gyeongnam FC', 'Yokohama F. Marinos', 'Kilmarnock',\n",
       "       'Pescara', 'Newcastle Jets', 'C�rdoba CF', 'RCD Mallorca',\n",
       "       'Hammarby IF', 'Cerezo Osaka', 'KFC Uerdingen 05',\n",
       "       'Shimizu S-Pulse', 'MSV Duisburg', 'Os Belenenses',\n",
       "       'DSC Arminia Bielefeld', 'Ipswich Town', 'FC Seoul',\n",
       "       'Lechia Gda?sk', 'Gamba Osaka', 'CF Rayo Majadahonda', 'LASK Linz',\n",
       "       'Bolton Wanderers', 'Al Raed', 'Extremadura UD', 'SC Paderborn 07',\n",
       "       'Wellington Phoenix', 'Uni�n Espa�ola', 'Alianza Petrolera',\n",
       "       'Cracovia', 'Gangwon FC', 'Elche CF', 'ESTAC Troyes', 'AS B�ziers',\n",
       "       'La Berrichonne de Ch�teauroux', 'Clermont Foot 63',\n",
       "       '1. FC Magdeburg', 'Pohang Steelers', '�rebro SK', 'Arka Gdynia',\n",
       "       'SG Dynamo Dresden', 'SpVgg Greuther F�rth', 'CD Huachipato',\n",
       "       'Wis?a Krak�w', 'Stab�k Fotball', 'Eintracht Braunschweig',\n",
       "       'Valenciennes FC', 'FC Thun', 'San Luis de Quillota',\n",
       "       ' SSV Jahn Regensburg', 'Cosenza', 'FC Nordsj�lland',\n",
       "       'FC Erzgebirge Aue', 'Jeonnam Dragons', 'Wolfsberger AC',\n",
       "       'Chamois Niortais Football Club', 'Club Deportes Temuco',\n",
       "       'AS Nancy Lorraine', 'Red Star FC', 'Al Hazem', 'Pogo? Szczecin',\n",
       "       'Charlton Athletic', 'Grenoble Foot 38', 'FC Hansa Rostock',\n",
       "       'San Martin de Tucum�n', 'Incheon United FC', '?l?sk Wroc?aw',\n",
       "       'GFC Ajaccio', '1. FC Kaiserslautern', 'Deportivo Pasto',\n",
       "       'Lincoln City', 'Motherwell', 'Rotherham United', 'Burton Albion',\n",
       "       'Wis?a P?ock', 'FC Wacker Innsbruck', 'Peterborough United',\n",
       "       'Ascoli', 'FC Z�rich', 'Fleetwood Town', 'Padova',\n",
       "       'FC Sochaux-Montb�liard', 'SV Wehen Wiesbaden', 'Uni�n La Calera',\n",
       "       'Scunthorpe United', \"CD O'Higgins\", 'CD Antofagasta',\n",
       "       'Plymouth Argyle', 'Aarhus GF', 'Lillestr�m SK', 'Karlsruher SC',\n",
       "       'GIF Sundsvall', 'FC Emmen', 'Barnsley', 'Audax Italiano',\n",
       "       'V-Varen Nagasaki', 'Paris FC', 'SpVgg Unterhaching', 'Hobro IK',\n",
       "       'De Graafschap', 'Hokkaido Consadole Sapporo', 'Troms� IL',\n",
       "       'FC Luzern', 'FK Haugesund', 'Zag??bie Lubin', 'VfR Aalen',\n",
       "       'Dundalk', 'Oxford United', 'Piast Gliwice', 'Ohod Club',\n",
       "       '�stersunds FK', 'Vegalta Sendai', 'Crawley Town',\n",
       "       'FC Admira Wacker M�dling', 'V�lerenga Fotball', 'Dundee FC',\n",
       "       'Portsmouth', 'Envigado FC', 'Mied? Legnica', 'Odds BK',\n",
       "       'SC Fortuna K�ln', 'US Orl�ans Loiret Football', 'Sarpsborg 08 FF',\n",
       "       'Jaguares de C�rdoba', 'Bradford City', 'Accrington Stanley',\n",
       "       'St. Johnstone FC', 'Boyac� Chic� FC', 'Luton Town',\n",
       "       'SV Mattersburg', 'Kristiansund BK', 'Sangju Sangmu FC',\n",
       "       'Rochdale', 'Walsall', 'Korona Kielce', 'Shonan Bellmare',\n",
       "       'FC W�rzburger Kickers', 'FSV Zwickau', 'St. Mirren', 'AC Horsens',\n",
       "       'Esbjerg fB', 'HJK Helsinki', 'Southend United', 'Bristol Rovers',\n",
       "       'Hamilton Academical FC', 'TSV 1860 M�nchen', 'Curic� Unido',\n",
       "       'SCR Altach', 'Ranheim Fotball', 'Stevenage',\n",
       "       'SG Sonnenhof Gro�aspach', 'Oldham Athletic', 'Milton Keynes Dons',\n",
       "       'FK Bod�/Glimt', 'SC Preu�en M�nster', 'Wycombe Wanderers',\n",
       "       'Vejle Boldklub', 'Bury', 'Randers FC', 'VfL Osnabr�ck',\n",
       "       'S�nderjyskE', 'IFK G�teborg', 'Mansfield Town', 'Coventry City',\n",
       "       'Waterford FC', 'Shrewsbury', 'IK Start', 'Gillingham',\n",
       "       'FC Energie Cottbus', 'FC Carl Zeiss Jena', 'Hallescher FC',\n",
       "       'SV Meppen', 'AFC Wimbledon', 'Blackpool', 'Doncaster Rovers',\n",
       "       'Sandefjord Fotball', 'VfL Sportfreunde Lotte', 'Cheltenham Town',\n",
       "       'IK Sirius', 'Vendsyssel FF', 'Swindon Town', 'Notts County',\n",
       "       'SKN St. P�lten', 'Exeter City', 'Northampton Town',\n",
       "       'Shamrock Rovers', 'Colchester United', 'Livingston FC',\n",
       "       'TSV Hartberg', 'Tranmere Rovers', 'Cambridge United',\n",
       "       'Grimsby Town', 'Port Vale', 'Itag�� Leones FC',\n",
       "       'Forest Green Rovers', 'Dalkurd FF', 'Zag??bie Sosnowiec',\n",
       "       'Carlisle United', 'Trelleborgs FF', \"St. Patrick's Athletic\",\n",
       "       'Morecambe', 'Cork City', 'IF Brommapojkarna', 'Crewe Alexandra',\n",
       "       'Yeovil Town', 'Bohemian FC', 'Macclesfield Town',\n",
       "       'Newport County', 'Sligo Rovers', 'Derry City', 'Limerick FC',\n",
       "       'Bray Wanderers'], dtype=object)"
      ]
     },
     "execution_count": 181,
     "metadata": {},
     "output_type": "execute_result"
    }
   ],
   "source": [
    "d1['Club'].unique()"
   ]
  },
  {
   "cell_type": "code",
   "execution_count": 182,
   "id": "e8a81235",
   "metadata": {},
   "outputs": [
    {
     "data": {
      "text/plain": [
       "array([2202, 2228, 2143, ...,  778,  738,  731], dtype=int64)"
      ]
     },
     "execution_count": 182,
     "metadata": {},
     "output_type": "execute_result"
    }
   ],
   "source": [
    "d1['Special'].unique()"
   ]
  },
  {
   "cell_type": "code",
   "execution_count": 183,
   "id": "18b1d53e",
   "metadata": {},
   "outputs": [
    {
     "data": {
      "text/plain": [
       "array(['Left', 'Right'], dtype=object)"
      ]
     },
     "execution_count": 183,
     "metadata": {},
     "output_type": "execute_result"
    }
   ],
   "source": [
    "d1['Preferred Foot'].unique()"
   ]
  },
  {
   "cell_type": "code",
   "execution_count": 184,
   "id": "e5a73a48",
   "metadata": {},
   "outputs": [
    {
     "data": {
      "text/plain": [
       "0        5.0\n",
       "1        5.0\n",
       "2        5.0\n",
       "3        4.0\n",
       "4        4.0\n",
       "        ... \n",
       "18202    1.0\n",
       "18203    1.0\n",
       "18204    1.0\n",
       "18205    1.0\n",
       "18206    1.0\n",
       "Name: International Reputation, Length: 17918, dtype: float64"
      ]
     },
     "execution_count": 184,
     "metadata": {},
     "output_type": "execute_result"
    }
   ],
   "source": [
    "d1['International Reputation']"
   ]
  },
  {
   "cell_type": "code",
   "execution_count": 185,
   "id": "19db86d0",
   "metadata": {},
   "outputs": [
    {
     "data": {
      "text/plain": [
       "0        4.0\n",
       "1        4.0\n",
       "2        5.0\n",
       "3        3.0\n",
       "4        5.0\n",
       "        ... \n",
       "18202    2.0\n",
       "18203    2.0\n",
       "18204    3.0\n",
       "18205    3.0\n",
       "18206    3.0\n",
       "Name: Weak Foot, Length: 17918, dtype: float64"
      ]
     },
     "execution_count": 185,
     "metadata": {},
     "output_type": "execute_result"
    }
   ],
   "source": [
    "d1['Weak Foot']"
   ]
  },
  {
   "cell_type": "code",
   "execution_count": 186,
   "id": "7c651472",
   "metadata": {},
   "outputs": [
    {
     "data": {
      "text/plain": [
       "0        4.0\n",
       "1        5.0\n",
       "2        5.0\n",
       "3        1.0\n",
       "4        4.0\n",
       "        ... \n",
       "18202    2.0\n",
       "18203    2.0\n",
       "18204    2.0\n",
       "18205    2.0\n",
       "18206    2.0\n",
       "Name: Skill Moves, Length: 17918, dtype: float64"
      ]
     },
     "execution_count": 186,
     "metadata": {},
     "output_type": "execute_result"
    }
   ],
   "source": [
    "d1['Skill Moves']"
   ]
  },
  {
   "cell_type": "code",
   "execution_count": 187,
   "id": "2602deff",
   "metadata": {},
   "outputs": [
    {
     "data": {
      "text/plain": [
       "array(['Medium/ Medium', 'High/ Low', 'High/ Medium', 'High/ High',\n",
       "       'Medium/ High', 'Medium/ Low', 'Low/ High', 'Low/ Medium',\n",
       "       'Low/ Low'], dtype=object)"
      ]
     },
     "execution_count": 187,
     "metadata": {},
     "output_type": "execute_result"
    }
   ],
   "source": [
    "d1['Work Rate'].unique()"
   ]
  },
  {
   "cell_type": "code",
   "execution_count": 188,
   "id": "4a6c7d22",
   "metadata": {},
   "outputs": [
    {
     "data": {
      "text/plain": [
       "array(['Messi', 'C. Ronaldo', 'Neymar', 'Lean', 'Normal', 'Courtois',\n",
       "       'Stocky', 'PLAYER_BODY_TYPE_25', 'Shaqiri', 'Akinfenwa'],\n",
       "      dtype=object)"
      ]
     },
     "execution_count": 188,
     "metadata": {},
     "output_type": "execute_result"
    }
   ],
   "source": [
    "d1['Body Type'].unique()"
   ]
  },
  {
   "cell_type": "code",
   "execution_count": 189,
   "id": "b29738b2",
   "metadata": {},
   "outputs": [
    {
     "data": {
      "text/plain": [
       "array(['Yes', 'No'], dtype=object)"
      ]
     },
     "execution_count": 189,
     "metadata": {},
     "output_type": "execute_result"
    }
   ],
   "source": [
    "d1['Real Face'].unique()"
   ]
  },
  {
   "cell_type": "code",
   "execution_count": 190,
   "id": "126ae48d",
   "metadata": {},
   "outputs": [
    {
     "data": {
      "text/plain": [
       "array(['RF', 'ST', 'LW', 'GK', 'RCM', 'LF', 'RS', 'RCB', 'LCM', 'CB',\n",
       "       'LDM', 'CAM', 'CDM', 'LS', 'LCB', 'RM', 'LAM', 'LM', 'LB', 'RDM',\n",
       "       'RW', 'CM', 'RB', 'RAM', 'CF', 'RWB', 'LWB'], dtype=object)"
      ]
     },
     "execution_count": 190,
     "metadata": {},
     "output_type": "execute_result"
    }
   ],
   "source": [
    "d1['Position'].unique()"
   ]
  },
  {
   "cell_type": "code",
   "execution_count": 191,
   "id": "eadb0677",
   "metadata": {},
   "outputs": [
    {
     "data": {
      "text/plain": [
       "array([10.,  7.,  1.,  9., 15.,  8., 21., 13., 22.,  5.,  3., 14., 12.,\n",
       "       11.,  2., 23., 26.,  6., 17., 18.,  4., 19., 31., 25., 37., 30.,\n",
       "       44., 29., 24., 20., 16., 33., 28., 27., 77., 47., 38., 40., 92.,\n",
       "       36., 87., 34., 32., 83., 70., 35., 89., 56., 99., 57., 91., 86.,\n",
       "       45., 63., 39., 43., 42., 93., 72., 71., 88., 55., 80., 50., 66.,\n",
       "       60., 73., 67., 74., 69., 76., 41., 90., 46., 75., 79., 62., 81.,\n",
       "       61., 49., 95., 53., 96., 97., 68., 98., 94., 58., 78., 48., 52.,\n",
       "       54., 84., 82., 65., 64., 51., 59., 85.])"
      ]
     },
     "execution_count": 191,
     "metadata": {},
     "output_type": "execute_result"
    }
   ],
   "source": [
    "d1['Jersey Number'].unique()"
   ]
  },
  {
   "cell_type": "code",
   "execution_count": 192,
   "id": "96c0bd1b",
   "metadata": {},
   "outputs": [
    {
     "data": {
      "text/plain": [
       "array(['01-Jul-04', '10-Jul-18', '03-Aug-17', ..., '22-May-17',\n",
       "       '06-Nov-16', '27-Nov-18'], dtype=object)"
      ]
     },
     "execution_count": 192,
     "metadata": {},
     "output_type": "execute_result"
    }
   ],
   "source": [
    "d1['Joined'].unique()"
   ]
  },
  {
   "cell_type": "code",
   "execution_count": 193,
   "id": "fdf9df81",
   "metadata": {
    "scrolled": true
   },
   "outputs": [
    {
     "data": {
      "text/plain": [
       "7.0543587453956915"
      ]
     },
     "execution_count": 193,
     "metadata": {},
     "output_type": "execute_result"
    }
   ],
   "source": [
    "d1['Joined'].isnull().sum()/len(d1)*100"
   ]
  },
  {
   "cell_type": "code",
   "execution_count": 194,
   "id": "cfac6185",
   "metadata": {},
   "outputs": [],
   "source": [
    "d1.dropna(subset=['Joined'],inplace=True)"
   ]
  },
  {
   "cell_type": "code",
   "execution_count": 195,
   "id": "a0205d09",
   "metadata": {},
   "outputs": [],
   "source": [
    "d1['Joined'] = pd.to_datetime(d1['Joined']).dt.year"
   ]
  },
  {
   "cell_type": "code",
   "execution_count": 196,
   "id": "52192073",
   "metadata": {},
   "outputs": [
    {
     "data": {
      "text/plain": [
       "0        2004\n",
       "1        2018\n",
       "2        2017\n",
       "3        2011\n",
       "4        2015\n",
       "         ... \n",
       "18202    2017\n",
       "18203    2018\n",
       "18204    2017\n",
       "18205    2018\n",
       "18206    2018\n",
       "Name: Joined, Length: 16654, dtype: int64"
      ]
     },
     "execution_count": 196,
     "metadata": {},
     "output_type": "execute_result"
    }
   ],
   "source": [
    "d1['Joined']"
   ]
  },
  {
   "cell_type": "code",
   "execution_count": 197,
   "id": "368b695c",
   "metadata": {},
   "outputs": [
    {
     "data": {
      "text/plain": [
       "array([\"5'7\", \"6'2\", \"5'9\", \"6'4\", \"5'11\", \"5'8\", \"6'0\", \"5'6\", \"5'10\",\n",
       "       \"6'6\", \"6'1\", \"5'4\", \"6'3\", \"5'5\", \"6'5\", \"6'7\", \"5'3\", \"5'2\",\n",
       "       \"6'8\", \"5'1\", \"6'9\"], dtype=object)"
      ]
     },
     "execution_count": 197,
     "metadata": {},
     "output_type": "execute_result"
    }
   ],
   "source": [
    "d1['Height'].unique()"
   ]
  },
  {
   "cell_type": "code",
   "execution_count": 198,
   "id": "3dd703c3",
   "metadata": {},
   "outputs": [],
   "source": [
    "d1.dropna(subset=['Height'],inplace=True)"
   ]
  },
  {
   "cell_type": "code",
   "execution_count": 199,
   "id": "b8660c84",
   "metadata": {},
   "outputs": [],
   "source": [
    "d1['Height'] = d1['Height'].apply(lambda x:x.replace(\"'\",'.'))"
   ]
  },
  {
   "cell_type": "code",
   "execution_count": 200,
   "id": "90546f50",
   "metadata": {},
   "outputs": [],
   "source": [
    "d1['Height'] = d1['Height'].astype(float)"
   ]
  },
  {
   "cell_type": "code",
   "execution_count": 201,
   "id": "fb8c6389",
   "metadata": {},
   "outputs": [
    {
     "data": {
      "text/plain": [
       "0        5.70\n",
       "1        6.20\n",
       "2        5.90\n",
       "3        6.40\n",
       "4        5.11\n",
       "         ... \n",
       "18202    5.90\n",
       "18203    6.30\n",
       "18204    5.80\n",
       "18205    5.10\n",
       "18206    5.10\n",
       "Name: Height, Length: 16654, dtype: float64"
      ]
     },
     "execution_count": 201,
     "metadata": {},
     "output_type": "execute_result"
    }
   ],
   "source": [
    "d1['Height']"
   ]
  },
  {
   "cell_type": "code",
   "execution_count": 202,
   "id": "f79a9d2b",
   "metadata": {},
   "outputs": [
    {
     "data": {
      "text/plain": [
       "array(['159lbs', '183lbs', '150lbs', '168lbs', '154lbs', '163lbs',\n",
       "       '146lbs', '190lbs', '181lbs', '192lbs', '176lbs', '172lbs',\n",
       "       '148lbs', '165lbs', '196lbs', '161lbs', '187lbs', '212lbs',\n",
       "       '170lbs', '203lbs', '157lbs', '185lbs', '130lbs', '174lbs',\n",
       "       '207lbs', '134lbs', '141lbs', '152lbs', '179lbs', '132lbs',\n",
       "       '201lbs', '198lbs', '209lbs', '214lbs', '143lbs', '205lbs',\n",
       "       '137lbs', '194lbs', '216lbs', '139lbs', '220lbs', '126lbs',\n",
       "       '218lbs', '123lbs', '128lbs', '223lbs', '121lbs', '115lbs',\n",
       "       '117lbs', '236lbs', '229lbs', '243lbs', '225lbs', '227lbs',\n",
       "       '110lbs', '119lbs', '234lbs'], dtype=object)"
      ]
     },
     "execution_count": 202,
     "metadata": {},
     "output_type": "execute_result"
    }
   ],
   "source": [
    "d1['Weight'].unique()"
   ]
  },
  {
   "cell_type": "code",
   "execution_count": 203,
   "id": "4b97bdd3",
   "metadata": {},
   "outputs": [],
   "source": [
    "d1['Weight'] = d1['Weight'].apply(lambda x:x.replace('lbs',''))"
   ]
  },
  {
   "cell_type": "code",
   "execution_count": 204,
   "id": "9d0ad717",
   "metadata": {},
   "outputs": [],
   "source": [
    "d1['Weight'] = d1['Weight'].astype(int)"
   ]
  },
  {
   "cell_type": "code",
   "execution_count": 205,
   "id": "e56f6db3",
   "metadata": {},
   "outputs": [
    {
     "data": {
      "text/plain": [
       "0        159\n",
       "1        183\n",
       "2        150\n",
       "3        168\n",
       "4        154\n",
       "        ... \n",
       "18202    134\n",
       "18203    170\n",
       "18204    148\n",
       "18205    154\n",
       "18206    176\n",
       "Name: Weight, Length: 16654, dtype: int32"
      ]
     },
     "execution_count": 205,
     "metadata": {},
     "output_type": "execute_result"
    }
   ],
   "source": [
    "d1['Weight']"
   ]
  },
  {
   "cell_type": "code",
   "execution_count": 206,
   "id": "ff5add5d",
   "metadata": {},
   "outputs": [
    {
     "data": {
      "text/plain": [
       "array(['�226.5M', '�127.1M', '�228.1M', ..., '�74K', '�101K', '�147K'],\n",
       "      dtype=object)"
      ]
     },
     "execution_count": 206,
     "metadata": {},
     "output_type": "execute_result"
    }
   ],
   "source": [
    "d1['Release Clause'].unique()"
   ]
  },
  {
   "cell_type": "code",
   "execution_count": 207,
   "id": "38453d51",
   "metadata": {},
   "outputs": [
    {
     "data": {
      "text/plain": [
       "0.06605019815059446"
      ]
     },
     "execution_count": 207,
     "metadata": {},
     "output_type": "execute_result"
    }
   ],
   "source": [
    "d1['Release Clause'].isnull().sum()/len(d1)*100"
   ]
  },
  {
   "cell_type": "code",
   "execution_count": 208,
   "id": "e4bd88c6",
   "metadata": {},
   "outputs": [],
   "source": [
    "d1.dropna(subset=['Release Clause'],inplace=True)"
   ]
  },
  {
   "cell_type": "code",
   "execution_count": 209,
   "id": "4b0b8ae8",
   "metadata": {},
   "outputs": [],
   "source": [
    "d1['Release Clause'] = d1['Release Clause'].apply(lambda x:x.replace('M',''))\n",
    "d1['Release Clause'] = d1['Release Clause'].apply(lambda x:x.replace('�',''))\n",
    "d1['Release Clause'] = d1['Release Clause'].apply(lambda x:x.replace('K',''))\n",
    "d1['Release Clause'] = d1['Release Clause'].apply(lambda x:x.strip())"
   ]
  },
  {
   "cell_type": "code",
   "execution_count": 210,
   "id": "f8037249",
   "metadata": {},
   "outputs": [],
   "source": [
    "d1['Release Clause'] = d1['Release Clause'].astype(float)"
   ]
  },
  {
   "cell_type": "code",
   "execution_count": 211,
   "id": "7ea7252f",
   "metadata": {},
   "outputs": [
    {
     "data": {
      "text/plain": [
       "0        226.5\n",
       "1        127.1\n",
       "2        228.1\n",
       "3        138.6\n",
       "4        196.4\n",
       "         ...  \n",
       "18202    143.0\n",
       "18203    113.0\n",
       "18204    165.0\n",
       "18205    143.0\n",
       "18206    165.0\n",
       "Name: Release Clause, Length: 16643, dtype: float64"
      ]
     },
     "execution_count": 211,
     "metadata": {},
     "output_type": "execute_result"
    }
   ],
   "source": [
    "d1['Release Clause']"
   ]
  },
  {
   "cell_type": "code",
   "execution_count": 212,
   "id": "70a9d630",
   "metadata": {},
   "outputs": [],
   "source": [
    "d1.drop(['Real Face','Jersey Number'],axis=1,inplace=True)"
   ]
  },
  {
   "cell_type": "code",
   "execution_count": 213,
   "id": "705f29d5",
   "metadata": {},
   "outputs": [
    {
     "name": "stdout",
     "output_type": "stream",
     "text": [
      "<class 'pandas.core.frame.DataFrame'>\n",
      "Int64Index: 16643 entries, 0 to 18206\n",
      "Data columns (total 22 columns):\n",
      " #   Column                    Non-Null Count  Dtype  \n",
      "---  ------                    --------------  -----  \n",
      " 0   ID                        16643 non-null  int64  \n",
      " 1   Name                      16643 non-null  object \n",
      " 2   Age                       16643 non-null  int64  \n",
      " 3   Nationality               16643 non-null  object \n",
      " 4   Overall                   16643 non-null  int64  \n",
      " 5   Potential                 16643 non-null  int64  \n",
      " 6   Club                      16643 non-null  object \n",
      " 7   Value                     16643 non-null  float64\n",
      " 8   Wage                      16643 non-null  int64  \n",
      " 9   Special                   16643 non-null  int64  \n",
      " 10  Preferred Foot            16643 non-null  object \n",
      " 11  International Reputation  16643 non-null  float64\n",
      " 12  Weak Foot                 16643 non-null  float64\n",
      " 13  Skill Moves               16643 non-null  float64\n",
      " 14  Work Rate                 16643 non-null  object \n",
      " 15  Body Type                 16643 non-null  object \n",
      " 16  Position                  16643 non-null  object \n",
      " 17  Joined                    16643 non-null  int64  \n",
      " 18  Contract Valid Until      16643 non-null  int64  \n",
      " 19  Height                    16643 non-null  float64\n",
      " 20  Weight                    16643 non-null  int32  \n",
      " 21  Release Clause            16643 non-null  float64\n",
      "dtypes: float64(6), int32(1), int64(8), object(7)\n",
      "memory usage: 2.9+ MB\n"
     ]
    }
   ],
   "source": [
    "d1.info()"
   ]
  },
  {
   "cell_type": "code",
   "execution_count": 214,
   "id": "36bd9549",
   "metadata": {},
   "outputs": [
    {
     "data": {
      "text/html": [
       "<div>\n",
       "<style scoped>\n",
       "    .dataframe tbody tr th:only-of-type {\n",
       "        vertical-align: middle;\n",
       "    }\n",
       "\n",
       "    .dataframe tbody tr th {\n",
       "        vertical-align: top;\n",
       "    }\n",
       "\n",
       "    .dataframe thead th {\n",
       "        text-align: right;\n",
       "    }\n",
       "</style>\n",
       "<table border=\"1\" class=\"dataframe\">\n",
       "  <thead>\n",
       "    <tr style=\"text-align: right;\">\n",
       "      <th></th>\n",
       "      <th>ID</th>\n",
       "      <th>Age</th>\n",
       "      <th>Overall</th>\n",
       "      <th>Potential</th>\n",
       "      <th>Value</th>\n",
       "      <th>Wage</th>\n",
       "      <th>Special</th>\n",
       "      <th>International Reputation</th>\n",
       "      <th>Weak Foot</th>\n",
       "      <th>Skill Moves</th>\n",
       "      <th>Joined</th>\n",
       "      <th>Contract Valid Until</th>\n",
       "      <th>Height</th>\n",
       "      <th>Weight</th>\n",
       "      <th>Release Clause</th>\n",
       "    </tr>\n",
       "  </thead>\n",
       "  <tbody>\n",
       "    <tr>\n",
       "      <th>0</th>\n",
       "      <td>158023</td>\n",
       "      <td>31</td>\n",
       "      <td>94</td>\n",
       "      <td>94</td>\n",
       "      <td>110.5</td>\n",
       "      <td>565</td>\n",
       "      <td>2202</td>\n",
       "      <td>5.0</td>\n",
       "      <td>4.0</td>\n",
       "      <td>4.0</td>\n",
       "      <td>2004</td>\n",
       "      <td>2021</td>\n",
       "      <td>5.70</td>\n",
       "      <td>159</td>\n",
       "      <td>226.5</td>\n",
       "    </tr>\n",
       "    <tr>\n",
       "      <th>1</th>\n",
       "      <td>20801</td>\n",
       "      <td>33</td>\n",
       "      <td>94</td>\n",
       "      <td>94</td>\n",
       "      <td>77.0</td>\n",
       "      <td>405</td>\n",
       "      <td>2228</td>\n",
       "      <td>5.0</td>\n",
       "      <td>4.0</td>\n",
       "      <td>5.0</td>\n",
       "      <td>2018</td>\n",
       "      <td>2022</td>\n",
       "      <td>6.20</td>\n",
       "      <td>183</td>\n",
       "      <td>127.1</td>\n",
       "    </tr>\n",
       "    <tr>\n",
       "      <th>2</th>\n",
       "      <td>190871</td>\n",
       "      <td>26</td>\n",
       "      <td>92</td>\n",
       "      <td>93</td>\n",
       "      <td>118.5</td>\n",
       "      <td>290</td>\n",
       "      <td>2143</td>\n",
       "      <td>5.0</td>\n",
       "      <td>5.0</td>\n",
       "      <td>5.0</td>\n",
       "      <td>2017</td>\n",
       "      <td>2022</td>\n",
       "      <td>5.90</td>\n",
       "      <td>150</td>\n",
       "      <td>228.1</td>\n",
       "    </tr>\n",
       "    <tr>\n",
       "      <th>3</th>\n",
       "      <td>193080</td>\n",
       "      <td>27</td>\n",
       "      <td>91</td>\n",
       "      <td>93</td>\n",
       "      <td>72.0</td>\n",
       "      <td>260</td>\n",
       "      <td>1471</td>\n",
       "      <td>4.0</td>\n",
       "      <td>3.0</td>\n",
       "      <td>1.0</td>\n",
       "      <td>2011</td>\n",
       "      <td>2020</td>\n",
       "      <td>6.40</td>\n",
       "      <td>168</td>\n",
       "      <td>138.6</td>\n",
       "    </tr>\n",
       "    <tr>\n",
       "      <th>4</th>\n",
       "      <td>192985</td>\n",
       "      <td>27</td>\n",
       "      <td>91</td>\n",
       "      <td>92</td>\n",
       "      <td>102.0</td>\n",
       "      <td>355</td>\n",
       "      <td>2281</td>\n",
       "      <td>4.0</td>\n",
       "      <td>5.0</td>\n",
       "      <td>4.0</td>\n",
       "      <td>2015</td>\n",
       "      <td>2023</td>\n",
       "      <td>5.11</td>\n",
       "      <td>154</td>\n",
       "      <td>196.4</td>\n",
       "    </tr>\n",
       "  </tbody>\n",
       "</table>\n",
       "</div>"
      ],
      "text/plain": [
       "       ID  Age  Overall  Potential  Value  Wage  Special  \\\n",
       "0  158023   31       94         94  110.5   565     2202   \n",
       "1   20801   33       94         94   77.0   405     2228   \n",
       "2  190871   26       92         93  118.5   290     2143   \n",
       "3  193080   27       91         93   72.0   260     1471   \n",
       "4  192985   27       91         92  102.0   355     2281   \n",
       "\n",
       "   International Reputation  Weak Foot  Skill Moves  Joined  \\\n",
       "0                       5.0        4.0          4.0    2004   \n",
       "1                       5.0        4.0          5.0    2018   \n",
       "2                       5.0        5.0          5.0    2017   \n",
       "3                       4.0        3.0          1.0    2011   \n",
       "4                       4.0        5.0          4.0    2015   \n",
       "\n",
       "   Contract Valid Until  Height  Weight  Release Clause  \n",
       "0                  2021    5.70     159           226.5  \n",
       "1                  2022    6.20     183           127.1  \n",
       "2                  2022    5.90     150           228.1  \n",
       "3                  2020    6.40     168           138.6  \n",
       "4                  2023    5.11     154           196.4  "
      ]
     },
     "execution_count": 214,
     "metadata": {},
     "output_type": "execute_result"
    }
   ],
   "source": [
    "d1_num = d1.select_dtypes(np.number)\n",
    "d1_num.head()"
   ]
  },
  {
   "cell_type": "code",
   "execution_count": 215,
   "id": "5bfeec50",
   "metadata": {},
   "outputs": [
    {
     "data": {
      "text/html": [
       "<div>\n",
       "<style scoped>\n",
       "    .dataframe tbody tr th:only-of-type {\n",
       "        vertical-align: middle;\n",
       "    }\n",
       "\n",
       "    .dataframe tbody tr th {\n",
       "        vertical-align: top;\n",
       "    }\n",
       "\n",
       "    .dataframe thead th {\n",
       "        text-align: right;\n",
       "    }\n",
       "</style>\n",
       "<table border=\"1\" class=\"dataframe\">\n",
       "  <thead>\n",
       "    <tr style=\"text-align: right;\">\n",
       "      <th></th>\n",
       "      <th>Name</th>\n",
       "      <th>Nationality</th>\n",
       "      <th>Club</th>\n",
       "      <th>Preferred Foot</th>\n",
       "      <th>Work Rate</th>\n",
       "      <th>Body Type</th>\n",
       "      <th>Position</th>\n",
       "    </tr>\n",
       "  </thead>\n",
       "  <tbody>\n",
       "    <tr>\n",
       "      <th>0</th>\n",
       "      <td>L. Messi</td>\n",
       "      <td>Argentina</td>\n",
       "      <td>FC Barcelona</td>\n",
       "      <td>Left</td>\n",
       "      <td>Medium/ Medium</td>\n",
       "      <td>Messi</td>\n",
       "      <td>RF</td>\n",
       "    </tr>\n",
       "    <tr>\n",
       "      <th>1</th>\n",
       "      <td>Cristiano Ronaldo</td>\n",
       "      <td>Portugal</td>\n",
       "      <td>Juventus</td>\n",
       "      <td>Right</td>\n",
       "      <td>High/ Low</td>\n",
       "      <td>C. Ronaldo</td>\n",
       "      <td>ST</td>\n",
       "    </tr>\n",
       "    <tr>\n",
       "      <th>2</th>\n",
       "      <td>Neymar Jr</td>\n",
       "      <td>Brazil</td>\n",
       "      <td>Paris Saint-Germain</td>\n",
       "      <td>Right</td>\n",
       "      <td>High/ Medium</td>\n",
       "      <td>Neymar</td>\n",
       "      <td>LW</td>\n",
       "    </tr>\n",
       "    <tr>\n",
       "      <th>3</th>\n",
       "      <td>De Gea</td>\n",
       "      <td>Spain</td>\n",
       "      <td>Manchester United</td>\n",
       "      <td>Right</td>\n",
       "      <td>Medium/ Medium</td>\n",
       "      <td>Lean</td>\n",
       "      <td>GK</td>\n",
       "    </tr>\n",
       "    <tr>\n",
       "      <th>4</th>\n",
       "      <td>K. De Bruyne</td>\n",
       "      <td>Belgium</td>\n",
       "      <td>Manchester City</td>\n",
       "      <td>Right</td>\n",
       "      <td>High/ High</td>\n",
       "      <td>Normal</td>\n",
       "      <td>RCM</td>\n",
       "    </tr>\n",
       "  </tbody>\n",
       "</table>\n",
       "</div>"
      ],
      "text/plain": [
       "                Name Nationality                 Club Preferred Foot  \\\n",
       "0           L. Messi   Argentina         FC Barcelona           Left   \n",
       "1  Cristiano Ronaldo    Portugal             Juventus          Right   \n",
       "2          Neymar Jr      Brazil  Paris Saint-Germain          Right   \n",
       "3             De Gea       Spain    Manchester United          Right   \n",
       "4       K. De Bruyne     Belgium      Manchester City          Right   \n",
       "\n",
       "        Work Rate   Body Type Position  \n",
       "0  Medium/ Medium       Messi       RF  \n",
       "1       High/ Low  C. Ronaldo       ST  \n",
       "2    High/ Medium      Neymar       LW  \n",
       "3  Medium/ Medium        Lean       GK  \n",
       "4      High/ High      Normal      RCM  "
      ]
     },
     "execution_count": 215,
     "metadata": {},
     "output_type": "execute_result"
    }
   ],
   "source": [
    "d1_cat = d1.select_dtypes(object)\n",
    "d1_cat.head()"
   ]
  },
  {
   "cell_type": "code",
   "execution_count": 216,
   "id": "14684c43",
   "metadata": {},
   "outputs": [
    {
     "data": {
      "text/plain": [
       "ID                          0\n",
       "Age                         0\n",
       "Overall                     0\n",
       "Potential                   0\n",
       "Value                       0\n",
       "Wage                        0\n",
       "Special                     0\n",
       "International Reputation    0\n",
       "Weak Foot                   0\n",
       "Skill Moves                 0\n",
       "Joined                      0\n",
       "Contract Valid Until        0\n",
       "Height                      0\n",
       "Weight                      0\n",
       "Release Clause              0\n",
       "dtype: int64"
      ]
     },
     "execution_count": 216,
     "metadata": {},
     "output_type": "execute_result"
    }
   ],
   "source": [
    "d1_num.isnull().sum()"
   ]
  },
  {
   "cell_type": "code",
   "execution_count": 217,
   "id": "5cc42c7d",
   "metadata": {},
   "outputs": [
    {
     "data": {
      "text/plain": [
       "(16643, 15)"
      ]
     },
     "execution_count": 217,
     "metadata": {},
     "output_type": "execute_result"
    }
   ],
   "source": [
    "d1_num.shape"
   ]
  },
  {
   "cell_type": "code",
   "execution_count": 218,
   "id": "90f8494f",
   "metadata": {},
   "outputs": [
    {
     "data": {
      "text/plain": [
       "Name              0\n",
       "Nationality       0\n",
       "Club              0\n",
       "Preferred Foot    0\n",
       "Work Rate         0\n",
       "Body Type         0\n",
       "Position          0\n",
       "dtype: int64"
      ]
     },
     "execution_count": 218,
     "metadata": {},
     "output_type": "execute_result"
    }
   ],
   "source": [
    "d1_cat.isnull().sum()"
   ]
  },
  {
   "cell_type": "code",
   "execution_count": 219,
   "id": "7f6e7b26",
   "metadata": {},
   "outputs": [
    {
     "data": {
      "text/plain": [
       "(16643, 7)"
      ]
     },
     "execution_count": 219,
     "metadata": {},
     "output_type": "execute_result"
    }
   ],
   "source": [
    "d1_cat.shape"
   ]
  },
  {
   "cell_type": "code",
   "execution_count": 221,
   "id": "a5805f10",
   "metadata": {},
   "outputs": [
    {
     "data": {
      "text/html": [
       "<div>\n",
       "<style scoped>\n",
       "    .dataframe tbody tr th:only-of-type {\n",
       "        vertical-align: middle;\n",
       "    }\n",
       "\n",
       "    .dataframe tbody tr th {\n",
       "        vertical-align: top;\n",
       "    }\n",
       "\n",
       "    .dataframe thead th {\n",
       "        text-align: right;\n",
       "    }\n",
       "</style>\n",
       "<table border=\"1\" class=\"dataframe\">\n",
       "  <thead>\n",
       "    <tr style=\"text-align: right;\">\n",
       "      <th></th>\n",
       "      <th>ID</th>\n",
       "      <th>Age</th>\n",
       "      <th>Overall</th>\n",
       "      <th>Potential</th>\n",
       "      <th>Value</th>\n",
       "      <th>Wage</th>\n",
       "      <th>Special</th>\n",
       "      <th>International Reputation</th>\n",
       "      <th>Weak Foot</th>\n",
       "      <th>Skill Moves</th>\n",
       "      <th>...</th>\n",
       "      <th>Height</th>\n",
       "      <th>Weight</th>\n",
       "      <th>Release Clause</th>\n",
       "      <th>Name</th>\n",
       "      <th>Nationality</th>\n",
       "      <th>Club</th>\n",
       "      <th>Preferred Foot</th>\n",
       "      <th>Work Rate</th>\n",
       "      <th>Body Type</th>\n",
       "      <th>Position</th>\n",
       "    </tr>\n",
       "  </thead>\n",
       "  <tbody>\n",
       "    <tr>\n",
       "      <th>0</th>\n",
       "      <td>158023</td>\n",
       "      <td>31</td>\n",
       "      <td>94</td>\n",
       "      <td>94</td>\n",
       "      <td>110.5</td>\n",
       "      <td>565</td>\n",
       "      <td>2202</td>\n",
       "      <td>5.0</td>\n",
       "      <td>4.0</td>\n",
       "      <td>4.0</td>\n",
       "      <td>...</td>\n",
       "      <td>5.70</td>\n",
       "      <td>159</td>\n",
       "      <td>226.5</td>\n",
       "      <td>L. Messi</td>\n",
       "      <td>Argentina</td>\n",
       "      <td>FC Barcelona</td>\n",
       "      <td>Left</td>\n",
       "      <td>Medium/ Medium</td>\n",
       "      <td>Messi</td>\n",
       "      <td>RF</td>\n",
       "    </tr>\n",
       "    <tr>\n",
       "      <th>1</th>\n",
       "      <td>20801</td>\n",
       "      <td>33</td>\n",
       "      <td>94</td>\n",
       "      <td>94</td>\n",
       "      <td>77.0</td>\n",
       "      <td>405</td>\n",
       "      <td>2228</td>\n",
       "      <td>5.0</td>\n",
       "      <td>4.0</td>\n",
       "      <td>5.0</td>\n",
       "      <td>...</td>\n",
       "      <td>6.20</td>\n",
       "      <td>183</td>\n",
       "      <td>127.1</td>\n",
       "      <td>Cristiano Ronaldo</td>\n",
       "      <td>Portugal</td>\n",
       "      <td>Juventus</td>\n",
       "      <td>Right</td>\n",
       "      <td>High/ Low</td>\n",
       "      <td>C. Ronaldo</td>\n",
       "      <td>ST</td>\n",
       "    </tr>\n",
       "    <tr>\n",
       "      <th>2</th>\n",
       "      <td>190871</td>\n",
       "      <td>26</td>\n",
       "      <td>92</td>\n",
       "      <td>93</td>\n",
       "      <td>118.5</td>\n",
       "      <td>290</td>\n",
       "      <td>2143</td>\n",
       "      <td>5.0</td>\n",
       "      <td>5.0</td>\n",
       "      <td>5.0</td>\n",
       "      <td>...</td>\n",
       "      <td>5.90</td>\n",
       "      <td>150</td>\n",
       "      <td>228.1</td>\n",
       "      <td>Neymar Jr</td>\n",
       "      <td>Brazil</td>\n",
       "      <td>Paris Saint-Germain</td>\n",
       "      <td>Right</td>\n",
       "      <td>High/ Medium</td>\n",
       "      <td>Neymar</td>\n",
       "      <td>LW</td>\n",
       "    </tr>\n",
       "    <tr>\n",
       "      <th>3</th>\n",
       "      <td>193080</td>\n",
       "      <td>27</td>\n",
       "      <td>91</td>\n",
       "      <td>93</td>\n",
       "      <td>72.0</td>\n",
       "      <td>260</td>\n",
       "      <td>1471</td>\n",
       "      <td>4.0</td>\n",
       "      <td>3.0</td>\n",
       "      <td>1.0</td>\n",
       "      <td>...</td>\n",
       "      <td>6.40</td>\n",
       "      <td>168</td>\n",
       "      <td>138.6</td>\n",
       "      <td>De Gea</td>\n",
       "      <td>Spain</td>\n",
       "      <td>Manchester United</td>\n",
       "      <td>Right</td>\n",
       "      <td>Medium/ Medium</td>\n",
       "      <td>Lean</td>\n",
       "      <td>GK</td>\n",
       "    </tr>\n",
       "    <tr>\n",
       "      <th>4</th>\n",
       "      <td>192985</td>\n",
       "      <td>27</td>\n",
       "      <td>91</td>\n",
       "      <td>92</td>\n",
       "      <td>102.0</td>\n",
       "      <td>355</td>\n",
       "      <td>2281</td>\n",
       "      <td>4.0</td>\n",
       "      <td>5.0</td>\n",
       "      <td>4.0</td>\n",
       "      <td>...</td>\n",
       "      <td>5.11</td>\n",
       "      <td>154</td>\n",
       "      <td>196.4</td>\n",
       "      <td>K. De Bruyne</td>\n",
       "      <td>Belgium</td>\n",
       "      <td>Manchester City</td>\n",
       "      <td>Right</td>\n",
       "      <td>High/ High</td>\n",
       "      <td>Normal</td>\n",
       "      <td>RCM</td>\n",
       "    </tr>\n",
       "  </tbody>\n",
       "</table>\n",
       "<p>5 rows × 22 columns</p>\n",
       "</div>"
      ],
      "text/plain": [
       "       ID  Age  Overall  Potential  Value  Wage  Special  \\\n",
       "0  158023   31       94         94  110.5   565     2202   \n",
       "1   20801   33       94         94   77.0   405     2228   \n",
       "2  190871   26       92         93  118.5   290     2143   \n",
       "3  193080   27       91         93   72.0   260     1471   \n",
       "4  192985   27       91         92  102.0   355     2281   \n",
       "\n",
       "   International Reputation  Weak Foot  Skill Moves  ...  Height  Weight  \\\n",
       "0                       5.0        4.0          4.0  ...    5.70     159   \n",
       "1                       5.0        4.0          5.0  ...    6.20     183   \n",
       "2                       5.0        5.0          5.0  ...    5.90     150   \n",
       "3                       4.0        3.0          1.0  ...    6.40     168   \n",
       "4                       4.0        5.0          4.0  ...    5.11     154   \n",
       "\n",
       "   Release Clause               Name  Nationality                 Club  \\\n",
       "0           226.5           L. Messi    Argentina         FC Barcelona   \n",
       "1           127.1  Cristiano Ronaldo     Portugal             Juventus   \n",
       "2           228.1          Neymar Jr       Brazil  Paris Saint-Germain   \n",
       "3           138.6             De Gea        Spain    Manchester United   \n",
       "4           196.4       K. De Bruyne      Belgium      Manchester City   \n",
       "\n",
       "  Preferred Foot       Work Rate   Body Type Position  \n",
       "0           Left  Medium/ Medium       Messi       RF  \n",
       "1          Right       High/ Low  C. Ronaldo       ST  \n",
       "2          Right    High/ Medium      Neymar       LW  \n",
       "3          Right  Medium/ Medium        Lean       GK  \n",
       "4          Right      High/ High      Normal      RCM  \n",
       "\n",
       "[5 rows x 22 columns]"
      ]
     },
     "execution_count": 221,
     "metadata": {},
     "output_type": "execute_result"
    }
   ],
   "source": [
    "d2 = pd.concat([d1_num,d1_cat],axis=1)\n",
    "d2.head()"
   ]
  },
  {
   "cell_type": "code",
   "execution_count": 222,
   "id": "e4a1e7d2",
   "metadata": {},
   "outputs": [
    {
     "data": {
      "text/plain": [
       "0"
      ]
     },
     "execution_count": 222,
     "metadata": {},
     "output_type": "execute_result"
    }
   ],
   "source": [
    "d2.isnull().sum().sum()"
   ]
  },
  {
   "cell_type": "code",
   "execution_count": 223,
   "id": "00aa9e13",
   "metadata": {},
   "outputs": [
    {
     "data": {
      "text/plain": [
       "(16643, 22)"
      ]
     },
     "execution_count": 223,
     "metadata": {},
     "output_type": "execute_result"
    }
   ],
   "source": [
    "d2.shape"
   ]
  },
  {
   "cell_type": "code",
   "execution_count": null,
   "id": "1d98f224",
   "metadata": {},
   "outputs": [],
   "source": [
    "import pandas as pd"
   ]
  },
  {
   "cell_type": "code",
   "execution_count": 224,
   "id": "845c7428",
   "metadata": {},
   "outputs": [],
   "source": [
    "d2.to_excel('football_players_T.xlsx')"
   ]
  },
  {
   "cell_type": "code",
   "execution_count": null,
   "id": "0a0779ea",
   "metadata": {},
   "outputs": [],
   "source": []
  }
 ],
 "metadata": {
  "kernelspec": {
   "display_name": "Python 3",
   "language": "python",
   "name": "python3"
  },
  "language_info": {
   "codemirror_mode": {
    "name": "ipython",
    "version": 3
   },
   "file_extension": ".py",
   "mimetype": "text/x-python",
   "name": "python",
   "nbconvert_exporter": "python",
   "pygments_lexer": "ipython3",
   "version": "3.8.8"
  }
 },
 "nbformat": 4,
 "nbformat_minor": 5
}
